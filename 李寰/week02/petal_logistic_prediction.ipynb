{
 "cells": [
  {
   "cell_type": "markdown",
   "metadata": {},
   "source": [
    "# 加载模型参数并预测"
   ]
  },
  {
   "cell_type": "code",
   "execution_count": 8,
   "metadata": {},
   "outputs": [],
   "source": [
    "import numpy as np\n",
    "from sklearn.datasets import load_iris\n",
    "from sklearn.model_selection import train_test_split\n",
    "from utils import forward"
   ]
  },
  {
   "cell_type": "code",
   "execution_count": 19,
   "metadata": {},
   "outputs": [],
   "source": [
    "# 加载数据\n",
    "X, y = load_iris(return_X_y=True)\n",
    "X = X[:100]\n",
    "y = y[:100]\n",
    "_, X_test, _, y_test = train_test_split(X, y, test_size=0.2)"
   ]
  },
  {
   "cell_type": "code",
   "execution_count": 20,
   "metadata": {},
   "outputs": [],
   "source": [
    "# 加载模型参数\n",
    "model = np.load('logistic_regression_model.npz')\n",
    "theta = model['theta']\n",
    "bias = model['bias']\n"
   ]
  },
  {
   "cell_type": "code",
   "execution_count": 22,
   "metadata": {},
   "outputs": [
    {
     "name": "stdout",
     "output_type": "stream",
     "text": [
      "真实标签: [1 1 1 0 1 0 1 0 1 1 0 0 0 0 1 0 0 0 0 0]\n",
      "预测结果: [1 1 1 0 1 0 1 0 1 1 0 0 0 0 1 0 0 0 0 0]\n"
     ]
    }
   ],
   "source": [
    "# 进行预测\n",
    "y_pred = forward(X_test, theta, bias)\n",
    "y_pred_binary = np.round(y_pred).flatten()\n",
    "# 打印预测结果\n",
    "print(\"真实标签:\", y_test)\n",
    "print(\"预测结果:\", y_pred_binary.astype(int))"
   ]
  }
 ],
 "metadata": {
  "kernelspec": {
   "display_name": "circle-py",
   "language": "python",
   "name": "python3"
  },
  "language_info": {
   "codemirror_mode": {
    "name": "ipython",
    "version": 3
   },
   "file_extension": ".py",
   "mimetype": "text/x-python",
   "name": "python",
   "nbconvert_exporter": "python",
   "pygments_lexer": "ipython3",
   "version": "3.12.9"
  }
 },
 "nbformat": 4,
 "nbformat_minor": 2
}
