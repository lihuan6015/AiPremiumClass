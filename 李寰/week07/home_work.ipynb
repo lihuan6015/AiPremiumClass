{
 "cells": [
  {
   "cell_type": "code",
   "id": "initial_id",
   "metadata": {
    "collapsed": true,
    "ExecuteTime": {
     "end_time": "2025-04-16T10:49:39.290376Z",
     "start_time": "2025-04-16T10:49:36.079242Z"
    }
   },
   "source": [
    "import kagglehub\n",
    "\n",
    "# Download latest version\n",
    "path = kagglehub.dataset_download(\"utmhikari/doubanmovieshortcomments\")\n",
    "\n",
    "print(\"Path to dataset files:\", path)\n"
   ],
   "outputs": [
    {
     "ename": "SSLError",
     "evalue": "HTTPSConnectionPool(host='www.kaggle.com', port=443): Max retries exceeded with url: /api/v1/datasets/view/utmhikari/doubanmovieshortcomments (Caused by SSLError(SSLEOFError(8, '[SSL: UNEXPECTED_EOF_WHILE_READING] EOF occurred in violation of protocol (_ssl.c:1006)')))",
     "output_type": "error",
     "traceback": [
      "\u001B[0;31m---------------------------------------------------------------------------\u001B[0m",
      "\u001B[0;31mSSLError\u001B[0m                                  Traceback (most recent call last)",
      "\u001B[0;31mSSLError\u001B[0m: [SSL: UNEXPECTED_EOF_WHILE_READING] EOF occurred in violation of protocol (_ssl.c:1006)",
      "\nThe above exception was the direct cause of the following exception:\n",
      "\u001B[0;31mMaxRetryError\u001B[0m                             Traceback (most recent call last)",
      "File \u001B[0;32m/opt/miniconda3/envs/llama-factory/lib/python3.11/site-packages/requests/adapters.py:667\u001B[0m, in \u001B[0;36mHTTPAdapter.send\u001B[0;34m(self, request, stream, timeout, verify, cert, proxies)\u001B[0m\n\u001B[1;32m    666\u001B[0m \u001B[38;5;28;01mtry\u001B[39;00m:\n\u001B[0;32m--> 667\u001B[0m     resp \u001B[38;5;241m=\u001B[39m conn\u001B[38;5;241m.\u001B[39murlopen(\n\u001B[1;32m    668\u001B[0m         method\u001B[38;5;241m=\u001B[39mrequest\u001B[38;5;241m.\u001B[39mmethod,\n\u001B[1;32m    669\u001B[0m         url\u001B[38;5;241m=\u001B[39murl,\n\u001B[1;32m    670\u001B[0m         body\u001B[38;5;241m=\u001B[39mrequest\u001B[38;5;241m.\u001B[39mbody,\n\u001B[1;32m    671\u001B[0m         headers\u001B[38;5;241m=\u001B[39mrequest\u001B[38;5;241m.\u001B[39mheaders,\n\u001B[1;32m    672\u001B[0m         redirect\u001B[38;5;241m=\u001B[39m\u001B[38;5;28;01mFalse\u001B[39;00m,\n\u001B[1;32m    673\u001B[0m         assert_same_host\u001B[38;5;241m=\u001B[39m\u001B[38;5;28;01mFalse\u001B[39;00m,\n\u001B[1;32m    674\u001B[0m         preload_content\u001B[38;5;241m=\u001B[39m\u001B[38;5;28;01mFalse\u001B[39;00m,\n\u001B[1;32m    675\u001B[0m         decode_content\u001B[38;5;241m=\u001B[39m\u001B[38;5;28;01mFalse\u001B[39;00m,\n\u001B[1;32m    676\u001B[0m         retries\u001B[38;5;241m=\u001B[39m\u001B[38;5;28mself\u001B[39m\u001B[38;5;241m.\u001B[39mmax_retries,\n\u001B[1;32m    677\u001B[0m         timeout\u001B[38;5;241m=\u001B[39mtimeout,\n\u001B[1;32m    678\u001B[0m         chunked\u001B[38;5;241m=\u001B[39mchunked,\n\u001B[1;32m    679\u001B[0m     )\n\u001B[1;32m    681\u001B[0m \u001B[38;5;28;01mexcept\u001B[39;00m (ProtocolError, \u001B[38;5;167;01mOSError\u001B[39;00m) \u001B[38;5;28;01mas\u001B[39;00m err:\n",
      "File \u001B[0;32m/opt/miniconda3/envs/llama-factory/lib/python3.11/site-packages/urllib3/connectionpool.py:841\u001B[0m, in \u001B[0;36mHTTPConnectionPool.urlopen\u001B[0;34m(self, method, url, body, headers, retries, redirect, assert_same_host, timeout, pool_timeout, release_conn, chunked, body_pos, preload_content, decode_content, **response_kw)\u001B[0m\n\u001B[1;32m    839\u001B[0m     new_e \u001B[38;5;241m=\u001B[39m ProtocolError(\u001B[38;5;124m\"\u001B[39m\u001B[38;5;124mConnection aborted.\u001B[39m\u001B[38;5;124m\"\u001B[39m, new_e)\n\u001B[0;32m--> 841\u001B[0m retries \u001B[38;5;241m=\u001B[39m retries\u001B[38;5;241m.\u001B[39mincrement(\n\u001B[1;32m    842\u001B[0m     method, url, error\u001B[38;5;241m=\u001B[39mnew_e, _pool\u001B[38;5;241m=\u001B[39m\u001B[38;5;28mself\u001B[39m, _stacktrace\u001B[38;5;241m=\u001B[39msys\u001B[38;5;241m.\u001B[39mexc_info()[\u001B[38;5;241m2\u001B[39m]\n\u001B[1;32m    843\u001B[0m )\n\u001B[1;32m    844\u001B[0m retries\u001B[38;5;241m.\u001B[39msleep()\n",
      "File \u001B[0;32m/opt/miniconda3/envs/llama-factory/lib/python3.11/site-packages/urllib3/util/retry.py:519\u001B[0m, in \u001B[0;36mRetry.increment\u001B[0;34m(self, method, url, response, error, _pool, _stacktrace)\u001B[0m\n\u001B[1;32m    518\u001B[0m     reason \u001B[38;5;241m=\u001B[39m error \u001B[38;5;129;01mor\u001B[39;00m ResponseError(cause)\n\u001B[0;32m--> 519\u001B[0m     \u001B[38;5;28;01mraise\u001B[39;00m MaxRetryError(_pool, url, reason) \u001B[38;5;28;01mfrom\u001B[39;00m \u001B[38;5;21;01mreason\u001B[39;00m  \u001B[38;5;66;03m# type: ignore[arg-type]\u001B[39;00m\n\u001B[1;32m    521\u001B[0m log\u001B[38;5;241m.\u001B[39mdebug(\u001B[38;5;124m\"\u001B[39m\u001B[38;5;124mIncremented Retry for (url=\u001B[39m\u001B[38;5;124m'\u001B[39m\u001B[38;5;132;01m%s\u001B[39;00m\u001B[38;5;124m'\u001B[39m\u001B[38;5;124m): \u001B[39m\u001B[38;5;132;01m%r\u001B[39;00m\u001B[38;5;124m\"\u001B[39m, url, new_retry)\n",
      "\u001B[0;31mMaxRetryError\u001B[0m: HTTPSConnectionPool(host='www.kaggle.com', port=443): Max retries exceeded with url: /api/v1/datasets/view/utmhikari/doubanmovieshortcomments (Caused by SSLError(SSLEOFError(8, '[SSL: UNEXPECTED_EOF_WHILE_READING] EOF occurred in violation of protocol (_ssl.c:1006)')))",
      "\nDuring handling of the above exception, another exception occurred:\n",
      "\u001B[0;31mSSLError\u001B[0m                                  Traceback (most recent call last)",
      "Cell \u001B[0;32mIn[5], line 4\u001B[0m\n\u001B[1;32m      2\u001B[0m \u001B[38;5;28;01mimport\u001B[39;00m \u001B[38;5;21;01mpandas\u001B[39;00m \u001B[38;5;28;01mas\u001B[39;00m \u001B[38;5;21;01mpd\u001B[39;00m\n\u001B[1;32m      3\u001B[0m \u001B[38;5;66;03m# Download latest version\u001B[39;00m\n\u001B[0;32m----> 4\u001B[0m path \u001B[38;5;241m=\u001B[39m kagglehub\u001B[38;5;241m.\u001B[39mdataset_download(\u001B[38;5;124m\"\u001B[39m\u001B[38;5;124mutmhikari/doubanmovieshortcomments\u001B[39m\u001B[38;5;124m\"\u001B[39m)\n\u001B[1;32m      6\u001B[0m \u001B[38;5;28mprint\u001B[39m(\u001B[38;5;124m\"\u001B[39m\u001B[38;5;124mPath to dataset files:\u001B[39m\u001B[38;5;124m\"\u001B[39m, path)\n\u001B[1;32m      7\u001B[0m \u001B[38;5;66;03m#pandas加载数据集\u001B[39;00m\n",
      "File \u001B[0;32m/opt/miniconda3/envs/llama-factory/lib/python3.11/site-packages/kagglehub/datasets.py:35\u001B[0m, in \u001B[0;36mdataset_download\u001B[0;34m(handle, path, force_download)\u001B[0m\n\u001B[1;32m     33\u001B[0m h \u001B[38;5;241m=\u001B[39m parse_dataset_handle(handle)\n\u001B[1;32m     34\u001B[0m logger\u001B[38;5;241m.\u001B[39minfo(\u001B[38;5;124mf\u001B[39m\u001B[38;5;124m\"\u001B[39m\u001B[38;5;124mDownloading Dataset: \u001B[39m\u001B[38;5;132;01m{\u001B[39;00mh\u001B[38;5;241m.\u001B[39mto_url()\u001B[38;5;132;01m}\u001B[39;00m\u001B[38;5;124m ...\u001B[39m\u001B[38;5;124m\"\u001B[39m, extra\u001B[38;5;241m=\u001B[39m{\u001B[38;5;241m*\u001B[39m\u001B[38;5;241m*\u001B[39mEXTRA_CONSOLE_BLOCK})\n\u001B[0;32m---> 35\u001B[0m path, _ \u001B[38;5;241m=\u001B[39m registry\u001B[38;5;241m.\u001B[39mdataset_resolver(h, path, force_download\u001B[38;5;241m=\u001B[39mforce_download)\n\u001B[1;32m     36\u001B[0m \u001B[38;5;28;01mreturn\u001B[39;00m path\n",
      "File \u001B[0;32m/opt/miniconda3/envs/llama-factory/lib/python3.11/site-packages/kagglehub/registry.py:28\u001B[0m, in \u001B[0;36mMultiImplRegistry.__call__\u001B[0;34m(self, *args, **kwargs)\u001B[0m\n\u001B[1;32m     26\u001B[0m \u001B[38;5;28;01mfor\u001B[39;00m impl \u001B[38;5;129;01min\u001B[39;00m \u001B[38;5;28mreversed\u001B[39m(\u001B[38;5;28mself\u001B[39m\u001B[38;5;241m.\u001B[39m_impls):\n\u001B[1;32m     27\u001B[0m     \u001B[38;5;28;01mif\u001B[39;00m impl\u001B[38;5;241m.\u001B[39mis_supported(\u001B[38;5;241m*\u001B[39margs, \u001B[38;5;241m*\u001B[39m\u001B[38;5;241m*\u001B[39mkwargs):\n\u001B[0;32m---> 28\u001B[0m         \u001B[38;5;28;01mreturn\u001B[39;00m impl(\u001B[38;5;241m*\u001B[39margs, \u001B[38;5;241m*\u001B[39m\u001B[38;5;241m*\u001B[39mkwargs)\n\u001B[1;32m     29\u001B[0m     \u001B[38;5;28;01melse\u001B[39;00m:\n\u001B[1;32m     30\u001B[0m         fails\u001B[38;5;241m.\u001B[39mappend(\u001B[38;5;28mtype\u001B[39m(impl)\u001B[38;5;241m.\u001B[39m\u001B[38;5;18m__name__\u001B[39m)\n",
      "File \u001B[0;32m/opt/miniconda3/envs/llama-factory/lib/python3.11/site-packages/kagglehub/resolver.py:29\u001B[0m, in \u001B[0;36mResolver.__call__\u001B[0;34m(self, handle, path, force_download)\u001B[0m\n\u001B[1;32m     15\u001B[0m \u001B[38;5;28;01mdef\u001B[39;00m \u001B[38;5;21m__call__\u001B[39m(\n\u001B[1;32m     16\u001B[0m     \u001B[38;5;28mself\u001B[39m, handle: T, path: Optional[\u001B[38;5;28mstr\u001B[39m] \u001B[38;5;241m=\u001B[39m \u001B[38;5;28;01mNone\u001B[39;00m, \u001B[38;5;241m*\u001B[39m, force_download: Optional[\u001B[38;5;28mbool\u001B[39m] \u001B[38;5;241m=\u001B[39m \u001B[38;5;28;01mFalse\u001B[39;00m\n\u001B[1;32m     17\u001B[0m ) \u001B[38;5;241m-\u001B[39m\u001B[38;5;241m>\u001B[39m \u001B[38;5;28mtuple\u001B[39m[\u001B[38;5;28mstr\u001B[39m, Optional[\u001B[38;5;28mint\u001B[39m]]:\n\u001B[1;32m     18\u001B[0m \u001B[38;5;250m    \u001B[39m\u001B[38;5;124;03m\"\"\"Resolves a handle into a path with the requested file(s) and the resource's version number.\u001B[39;00m\n\u001B[1;32m     19\u001B[0m \n\u001B[1;32m     20\u001B[0m \u001B[38;5;124;03m    Args:\u001B[39;00m\n\u001B[0;32m   (...)\u001B[0m\n\u001B[1;32m     27\u001B[0m \u001B[38;5;124;03m        Some cases where version number might be missing: Competition datasource, API-based models.\u001B[39;00m\n\u001B[1;32m     28\u001B[0m \u001B[38;5;124;03m    \"\"\"\u001B[39;00m\n\u001B[0;32m---> 29\u001B[0m     path, version \u001B[38;5;241m=\u001B[39m \u001B[38;5;28mself\u001B[39m\u001B[38;5;241m.\u001B[39m_resolve(handle, path, force_download\u001B[38;5;241m=\u001B[39mforce_download)\n\u001B[1;32m     31\u001B[0m     \u001B[38;5;66;03m# Note handles are immutable, so _resolve() could not have altered our reference\u001B[39;00m\n\u001B[1;32m     32\u001B[0m     register_datasource_access(handle, version)\n",
      "File \u001B[0;32m/opt/miniconda3/envs/llama-factory/lib/python3.11/site-packages/kagglehub/http_resolver.py:107\u001B[0m, in \u001B[0;36mDatasetHttpResolver._resolve\u001B[0;34m(self, h, path, force_download)\u001B[0m\n\u001B[1;32m    104\u001B[0m api_client \u001B[38;5;241m=\u001B[39m KaggleApiV1Client()\n\u001B[1;32m    106\u001B[0m \u001B[38;5;28;01mif\u001B[39;00m \u001B[38;5;129;01mnot\u001B[39;00m h\u001B[38;5;241m.\u001B[39mis_versioned():\n\u001B[0;32m--> 107\u001B[0m     h \u001B[38;5;241m=\u001B[39m h\u001B[38;5;241m.\u001B[39mwith_version(_get_current_version(api_client, h))\n\u001B[1;32m    109\u001B[0m dataset_path \u001B[38;5;241m=\u001B[39m load_from_cache(h, path)\n\u001B[1;32m    110\u001B[0m \u001B[38;5;28;01mif\u001B[39;00m dataset_path \u001B[38;5;129;01mand\u001B[39;00m \u001B[38;5;129;01mnot\u001B[39;00m force_download:\n",
      "File \u001B[0;32m/opt/miniconda3/envs/llama-factory/lib/python3.11/site-packages/kagglehub/http_resolver.py:290\u001B[0m, in \u001B[0;36m_get_current_version\u001B[0;34m(api_client, h)\u001B[0m\n\u001B[1;32m    287\u001B[0m     \u001B[38;5;28;01mreturn\u001B[39;00m json_response[MODEL_INSTANCE_VERSION_FIELD]\n\u001B[1;32m    289\u001B[0m \u001B[38;5;28;01melif\u001B[39;00m \u001B[38;5;28misinstance\u001B[39m(h, DatasetHandle):\n\u001B[0;32m--> 290\u001B[0m     json_response \u001B[38;5;241m=\u001B[39m api_client\u001B[38;5;241m.\u001B[39mget(_build_get_dataset_url_path(h), h)\n\u001B[1;32m    291\u001B[0m     \u001B[38;5;28;01mif\u001B[39;00m DATASET_CURRENT_VERSION_FIELD \u001B[38;5;129;01mnot\u001B[39;00m \u001B[38;5;129;01min\u001B[39;00m json_response:\n\u001B[1;32m    292\u001B[0m         msg \u001B[38;5;241m=\u001B[39m \u001B[38;5;124mf\u001B[39m\u001B[38;5;124m\"\u001B[39m\u001B[38;5;124mInvalid GetDataset API response. Expected to include a \u001B[39m\u001B[38;5;132;01m{\u001B[39;00mDATASET_CURRENT_VERSION_FIELD\u001B[38;5;132;01m}\u001B[39;00m\u001B[38;5;124m field\u001B[39m\u001B[38;5;124m\"\u001B[39m\n",
      "File \u001B[0;32m/opt/miniconda3/envs/llama-factory/lib/python3.11/site-packages/kagglehub/clients.py:132\u001B[0m, in \u001B[0;36mKaggleApiV1Client.get\u001B[0;34m(self, path, resource_handle)\u001B[0m\n\u001B[1;32m    130\u001B[0m \u001B[38;5;28;01mdef\u001B[39;00m \u001B[38;5;21mget\u001B[39m(\u001B[38;5;28mself\u001B[39m, path: \u001B[38;5;28mstr\u001B[39m, resource_handle: Optional[ResourceHandle] \u001B[38;5;241m=\u001B[39m \u001B[38;5;28;01mNone\u001B[39;00m) \u001B[38;5;241m-\u001B[39m\u001B[38;5;241m>\u001B[39m \u001B[38;5;28mdict\u001B[39m:\n\u001B[1;32m    131\u001B[0m     url \u001B[38;5;241m=\u001B[39m \u001B[38;5;28mself\u001B[39m\u001B[38;5;241m.\u001B[39m_build_url(path)\n\u001B[0;32m--> 132\u001B[0m     \u001B[38;5;28;01mwith\u001B[39;00m requests\u001B[38;5;241m.\u001B[39mget(\n\u001B[1;32m    133\u001B[0m         url,\n\u001B[1;32m    134\u001B[0m         headers\u001B[38;5;241m=\u001B[39m{\u001B[38;5;124m\"\u001B[39m\u001B[38;5;124mUser-Agent\u001B[39m\u001B[38;5;124m\"\u001B[39m: get_user_agent()},\n\u001B[1;32m    135\u001B[0m         auth\u001B[38;5;241m=\u001B[39m\u001B[38;5;28mself\u001B[39m\u001B[38;5;241m.\u001B[39m_get_auth(),\n\u001B[1;32m    136\u001B[0m         timeout\u001B[38;5;241m=\u001B[39m(DEFAULT_CONNECT_TIMEOUT, DEFAULT_READ_TIMEOUT),\n\u001B[1;32m    137\u001B[0m     ) \u001B[38;5;28;01mas\u001B[39;00m response:\n\u001B[1;32m    138\u001B[0m         kaggle_api_raise_for_status(response, resource_handle)\n\u001B[1;32m    139\u001B[0m         \u001B[38;5;28mself\u001B[39m\u001B[38;5;241m.\u001B[39m_check_for_version_update(response)\n",
      "File \u001B[0;32m/opt/miniconda3/envs/llama-factory/lib/python3.11/site-packages/requests/api.py:73\u001B[0m, in \u001B[0;36mget\u001B[0;34m(url, params, **kwargs)\u001B[0m\n\u001B[1;32m     62\u001B[0m \u001B[38;5;28;01mdef\u001B[39;00m \u001B[38;5;21mget\u001B[39m(url, params\u001B[38;5;241m=\u001B[39m\u001B[38;5;28;01mNone\u001B[39;00m, \u001B[38;5;241m*\u001B[39m\u001B[38;5;241m*\u001B[39mkwargs):\n\u001B[1;32m     63\u001B[0m \u001B[38;5;250m    \u001B[39m\u001B[38;5;124mr\u001B[39m\u001B[38;5;124;03m\"\"\"Sends a GET request.\u001B[39;00m\n\u001B[1;32m     64\u001B[0m \n\u001B[1;32m     65\u001B[0m \u001B[38;5;124;03m    :param url: URL for the new :class:`Request` object.\u001B[39;00m\n\u001B[0;32m   (...)\u001B[0m\n\u001B[1;32m     70\u001B[0m \u001B[38;5;124;03m    :rtype: requests.Response\u001B[39;00m\n\u001B[1;32m     71\u001B[0m \u001B[38;5;124;03m    \"\"\"\u001B[39;00m\n\u001B[0;32m---> 73\u001B[0m     \u001B[38;5;28;01mreturn\u001B[39;00m request(\u001B[38;5;124m\"\u001B[39m\u001B[38;5;124mget\u001B[39m\u001B[38;5;124m\"\u001B[39m, url, params\u001B[38;5;241m=\u001B[39mparams, \u001B[38;5;241m*\u001B[39m\u001B[38;5;241m*\u001B[39mkwargs)\n",
      "File \u001B[0;32m/opt/miniconda3/envs/llama-factory/lib/python3.11/site-packages/requests/api.py:59\u001B[0m, in \u001B[0;36mrequest\u001B[0;34m(method, url, **kwargs)\u001B[0m\n\u001B[1;32m     55\u001B[0m \u001B[38;5;66;03m# By using the 'with' statement we are sure the session is closed, thus we\u001B[39;00m\n\u001B[1;32m     56\u001B[0m \u001B[38;5;66;03m# avoid leaving sockets open which can trigger a ResourceWarning in some\u001B[39;00m\n\u001B[1;32m     57\u001B[0m \u001B[38;5;66;03m# cases, and look like a memory leak in others.\u001B[39;00m\n\u001B[1;32m     58\u001B[0m \u001B[38;5;28;01mwith\u001B[39;00m sessions\u001B[38;5;241m.\u001B[39mSession() \u001B[38;5;28;01mas\u001B[39;00m session:\n\u001B[0;32m---> 59\u001B[0m     \u001B[38;5;28;01mreturn\u001B[39;00m session\u001B[38;5;241m.\u001B[39mrequest(method\u001B[38;5;241m=\u001B[39mmethod, url\u001B[38;5;241m=\u001B[39murl, \u001B[38;5;241m*\u001B[39m\u001B[38;5;241m*\u001B[39mkwargs)\n",
      "File \u001B[0;32m/opt/miniconda3/envs/llama-factory/lib/python3.11/site-packages/requests/sessions.py:589\u001B[0m, in \u001B[0;36mSession.request\u001B[0;34m(self, method, url, params, data, headers, cookies, files, auth, timeout, allow_redirects, proxies, hooks, stream, verify, cert, json)\u001B[0m\n\u001B[1;32m    584\u001B[0m send_kwargs \u001B[38;5;241m=\u001B[39m {\n\u001B[1;32m    585\u001B[0m     \u001B[38;5;124m\"\u001B[39m\u001B[38;5;124mtimeout\u001B[39m\u001B[38;5;124m\"\u001B[39m: timeout,\n\u001B[1;32m    586\u001B[0m     \u001B[38;5;124m\"\u001B[39m\u001B[38;5;124mallow_redirects\u001B[39m\u001B[38;5;124m\"\u001B[39m: allow_redirects,\n\u001B[1;32m    587\u001B[0m }\n\u001B[1;32m    588\u001B[0m send_kwargs\u001B[38;5;241m.\u001B[39mupdate(settings)\n\u001B[0;32m--> 589\u001B[0m resp \u001B[38;5;241m=\u001B[39m \u001B[38;5;28mself\u001B[39m\u001B[38;5;241m.\u001B[39msend(prep, \u001B[38;5;241m*\u001B[39m\u001B[38;5;241m*\u001B[39msend_kwargs)\n\u001B[1;32m    591\u001B[0m \u001B[38;5;28;01mreturn\u001B[39;00m resp\n",
      "File \u001B[0;32m/opt/miniconda3/envs/llama-factory/lib/python3.11/site-packages/requests/sessions.py:703\u001B[0m, in \u001B[0;36mSession.send\u001B[0;34m(self, request, **kwargs)\u001B[0m\n\u001B[1;32m    700\u001B[0m start \u001B[38;5;241m=\u001B[39m preferred_clock()\n\u001B[1;32m    702\u001B[0m \u001B[38;5;66;03m# Send the request\u001B[39;00m\n\u001B[0;32m--> 703\u001B[0m r \u001B[38;5;241m=\u001B[39m adapter\u001B[38;5;241m.\u001B[39msend(request, \u001B[38;5;241m*\u001B[39m\u001B[38;5;241m*\u001B[39mkwargs)\n\u001B[1;32m    705\u001B[0m \u001B[38;5;66;03m# Total elapsed time of the request (approximately)\u001B[39;00m\n\u001B[1;32m    706\u001B[0m elapsed \u001B[38;5;241m=\u001B[39m preferred_clock() \u001B[38;5;241m-\u001B[39m start\n",
      "File \u001B[0;32m/opt/miniconda3/envs/llama-factory/lib/python3.11/site-packages/requests/adapters.py:698\u001B[0m, in \u001B[0;36mHTTPAdapter.send\u001B[0;34m(self, request, stream, timeout, verify, cert, proxies)\u001B[0m\n\u001B[1;32m    694\u001B[0m         \u001B[38;5;28;01mraise\u001B[39;00m ProxyError(e, request\u001B[38;5;241m=\u001B[39mrequest)\n\u001B[1;32m    696\u001B[0m     \u001B[38;5;28;01mif\u001B[39;00m \u001B[38;5;28misinstance\u001B[39m(e\u001B[38;5;241m.\u001B[39mreason, _SSLError):\n\u001B[1;32m    697\u001B[0m         \u001B[38;5;66;03m# This branch is for urllib3 v1.22 and later.\u001B[39;00m\n\u001B[0;32m--> 698\u001B[0m         \u001B[38;5;28;01mraise\u001B[39;00m SSLError(e, request\u001B[38;5;241m=\u001B[39mrequest)\n\u001B[1;32m    700\u001B[0m     \u001B[38;5;28;01mraise\u001B[39;00m \u001B[38;5;167;01mConnectionError\u001B[39;00m(e, request\u001B[38;5;241m=\u001B[39mrequest)\n\u001B[1;32m    702\u001B[0m \u001B[38;5;28;01mexcept\u001B[39;00m ClosedPoolError \u001B[38;5;28;01mas\u001B[39;00m e:\n",
      "\u001B[0;31mSSLError\u001B[0m: HTTPSConnectionPool(host='www.kaggle.com', port=443): Max retries exceeded with url: /api/v1/datasets/view/utmhikari/doubanmovieshortcomments (Caused by SSLError(SSLEOFError(8, '[SSL: UNEXPECTED_EOF_WHILE_READING] EOF occurred in violation of protocol (_ssl.c:1006)')))"
     ]
    }
   ],
   "execution_count": 5
  },
  {
   "metadata": {
    "ExecuteTime": {
     "end_time": "2025-04-16T10:50:30.434875Z",
     "start_time": "2025-04-16T10:50:26.779154Z"
    }
   },
   "cell_type": "code",
   "source": [
    "import pandas as pd\n",
    "path='/Users/circleLee/.cache/kagglehub/datasets/utmhikari/doubanmovieshortcomments/versions/7/DMSC.csv'\n",
    "#pandas加载数据集\n",
    "df = pd.read_csv(path)\n",
    "df.head(20)"
   ],
   "id": "f423a75d13f1a1cc",
   "outputs": [
    {
     "data": {
      "text/plain": [
       "    ID           Movie_Name_EN Movie_Name_CN  Crawl_Date  Number  Username  \\\n",
       "0    0  Avengers Age of Ultron        复仇者联盟2  2017-01-22       1        然潘   \n",
       "1    1  Avengers Age of Ultron        复仇者联盟2  2017-01-22       2     更深的白色   \n",
       "2    2  Avengers Age of Ultron        复仇者联盟2  2017-01-22       3    有意识的贱民   \n",
       "3    3  Avengers Age of Ultron        复仇者联盟2  2017-01-22       4   不老的李大爷耶   \n",
       "4    4  Avengers Age of Ultron        复仇者联盟2  2017-01-22       5   ZephyrO   \n",
       "5    5  Avengers Age of Ultron        复仇者联盟2  2017-01-22       6  同志亦凡人中文站   \n",
       "6    6  Avengers Age of Ultron        复仇者联盟2  2017-01-22       7     Danny   \n",
       "7    7  Avengers Age of Ultron        复仇者联盟2  2017-01-22       8     gYroS   \n",
       "8    8  Avengers Age of Ultron        复仇者联盟2  2017-01-22       9     tidd熊   \n",
       "9    9  Avengers Age of Ultron        复仇者联盟2  2017-01-22      10     桃桃淘电影   \n",
       "10  10  Avengers Age of Ultron        复仇者联盟2  2017-01-22      11        影志   \n",
       "11  11  Avengers Age of Ultron        复仇者联盟2  2017-01-22      12        玖萬   \n",
       "12  12  Avengers Age of Ultron        复仇者联盟2  2017-01-22      13      亵渎电影   \n",
       "13  13  Avengers Age of Ultron        复仇者联盟2  2017-01-22      14     陀螺凡达可   \n",
       "14  14  Avengers Age of Ultron        复仇者联盟2  2017-01-22      15     别惹小白兔   \n",
       "15  15  Avengers Age of Ultron        复仇者联盟2  2017-01-22      16       高压电   \n",
       "16  16  Avengers Age of Ultron        复仇者联盟2  2017-01-22      17     牛腩羊耳朵   \n",
       "17  17  Avengers Age of Ultron        复仇者联盟2  2017-01-22      18       文文周   \n",
       "18  18  Avengers Age of Ultron        复仇者联盟2  2017-01-22      19       抽先桑   \n",
       "19  19  Avengers Age of Ultron        复仇者联盟2  2017-01-22      20     时间的玫瑰   \n",
       "\n",
       "          Date  Star                                            Comment  Like  \n",
       "0   2015-05-13     3                                      连奥创都知道整容要去韩国。  2404  \n",
       "1   2015-04-24     2   非常失望，剧本完全敷衍了事，主线剧情没突破大家可以理解，可所有的人物都缺乏动机，正邪之间、...  1231  \n",
       "2   2015-04-26     2   2015年度最失望作品。以为面面俱到，实则画蛇添足；以为主题深刻，实则老调重弹；以为推陈出...  1052  \n",
       "3   2015-04-23     4   《铁人2》中勾引钢铁侠，《妇联1》中勾引鹰眼，《美队2》中勾引美国队长，在《妇联2》中终于...  1045  \n",
       "4   2015-04-22     2                                  虽然从头打到尾，但是真的很无聊啊。   723  \n",
       "5   2015-04-22     3   剧情不如第一集好玩了，全靠密集笑点在提神。僧多粥少的直接后果就是每部寡姐都要换着队友谈恋爱...   671  \n",
       "6   2015-04-23     2   只有一颗彩蛋必须降一星。外加漫威的编剧是有心无力了吧。复仇者联盟只能永远着手与团队的和与不...   641  \n",
       "7   2015-04-28     2                                       看腻了这些打来打去的烂片   576  \n",
       "8   2015-04-23     3            漫威粉勿喷，真感觉比第一部差了些火候。没想到奥创竟然这么弱，出来失望之极。。。   481  \n",
       "9   2015-05-12     3   属于超级英雄的春晚，角色如走马灯一样出场。眼花缭乱的同时却没办法给人留下太深印象。这部内容...   443  \n",
       "10  2015-04-30     4   “一个没有黑暗面的人不值得信任。” 第二部剥去冗长的铺垫，开场即高潮、一直到结束，会有人觉...   381  \n",
       "11  2015-05-12     2   请漫威华丽地滚出电影界！每年都炮制出几部毫无营养千篇一律的流水线电影骗票房，刺激各种投机并...   275  \n",
       "12  2015-05-12     2   承认这货很烂很难吗？混乱的节奏，人人都可能冒出来即兴插一腿，糟糕的3D也是毫无必要，就连特...   231  \n",
       "13  2015-04-22     3   跟第一部很不一样，叙事加强了不少，整个基调都更沉重黑暗，幽默和燃点也减少了，趣味性更是大减...   228  \n",
       "14  2015-04-27     3   漫威第二阶最中庸的一集。承上启下之作，完全是内战和复联3的超长预告片，奥创明显是为续集强加...   270  \n",
       "15  2015-05-08     1         什么破烂反派，毫无戏剧冲突能消耗两个多小时生命，还强加爱情戏。脑残片好圈钱倒是真的。   158  \n",
       "16  2015-04-22     4   总体来说没有达到第一部想让人立马二刷的体验，搞笑和燃度都有就是不够劲，应了续集电影的疲软定...   165  \n",
       "17  2015-04-24     5   机甲之战超超好看，比变形金刚强；人，神，变异人，人工智能互殴，强强强强；每一小段末句都是槽...   182  \n",
       "18  2015-04-29     2   结局就差寡姐握着绿巨人的手说：”我的意中人是一个盖世英雄，有一天他会turn green来...   153  \n",
       "19  2015-04-23     4   全程挥之不去美队的胸和banner的胸……毛。人物太多感情的处理不够细腻是一定的啦。凭良心...   144  "
      ],
      "text/html": [
       "<div>\n",
       "<style scoped>\n",
       "    .dataframe tbody tr th:only-of-type {\n",
       "        vertical-align: middle;\n",
       "    }\n",
       "\n",
       "    .dataframe tbody tr th {\n",
       "        vertical-align: top;\n",
       "    }\n",
       "\n",
       "    .dataframe thead th {\n",
       "        text-align: right;\n",
       "    }\n",
       "</style>\n",
       "<table border=\"1\" class=\"dataframe\">\n",
       "  <thead>\n",
       "    <tr style=\"text-align: right;\">\n",
       "      <th></th>\n",
       "      <th>ID</th>\n",
       "      <th>Movie_Name_EN</th>\n",
       "      <th>Movie_Name_CN</th>\n",
       "      <th>Crawl_Date</th>\n",
       "      <th>Number</th>\n",
       "      <th>Username</th>\n",
       "      <th>Date</th>\n",
       "      <th>Star</th>\n",
       "      <th>Comment</th>\n",
       "      <th>Like</th>\n",
       "    </tr>\n",
       "  </thead>\n",
       "  <tbody>\n",
       "    <tr>\n",
       "      <th>0</th>\n",
       "      <td>0</td>\n",
       "      <td>Avengers Age of Ultron</td>\n",
       "      <td>复仇者联盟2</td>\n",
       "      <td>2017-01-22</td>\n",
       "      <td>1</td>\n",
       "      <td>然潘</td>\n",
       "      <td>2015-05-13</td>\n",
       "      <td>3</td>\n",
       "      <td>连奥创都知道整容要去韩国。</td>\n",
       "      <td>2404</td>\n",
       "    </tr>\n",
       "    <tr>\n",
       "      <th>1</th>\n",
       "      <td>1</td>\n",
       "      <td>Avengers Age of Ultron</td>\n",
       "      <td>复仇者联盟2</td>\n",
       "      <td>2017-01-22</td>\n",
       "      <td>2</td>\n",
       "      <td>更深的白色</td>\n",
       "      <td>2015-04-24</td>\n",
       "      <td>2</td>\n",
       "      <td>非常失望，剧本完全敷衍了事，主线剧情没突破大家可以理解，可所有的人物都缺乏动机，正邪之间、...</td>\n",
       "      <td>1231</td>\n",
       "    </tr>\n",
       "    <tr>\n",
       "      <th>2</th>\n",
       "      <td>2</td>\n",
       "      <td>Avengers Age of Ultron</td>\n",
       "      <td>复仇者联盟2</td>\n",
       "      <td>2017-01-22</td>\n",
       "      <td>3</td>\n",
       "      <td>有意识的贱民</td>\n",
       "      <td>2015-04-26</td>\n",
       "      <td>2</td>\n",
       "      <td>2015年度最失望作品。以为面面俱到，实则画蛇添足；以为主题深刻，实则老调重弹；以为推陈出...</td>\n",
       "      <td>1052</td>\n",
       "    </tr>\n",
       "    <tr>\n",
       "      <th>3</th>\n",
       "      <td>3</td>\n",
       "      <td>Avengers Age of Ultron</td>\n",
       "      <td>复仇者联盟2</td>\n",
       "      <td>2017-01-22</td>\n",
       "      <td>4</td>\n",
       "      <td>不老的李大爷耶</td>\n",
       "      <td>2015-04-23</td>\n",
       "      <td>4</td>\n",
       "      <td>《铁人2》中勾引钢铁侠，《妇联1》中勾引鹰眼，《美队2》中勾引美国队长，在《妇联2》中终于...</td>\n",
       "      <td>1045</td>\n",
       "    </tr>\n",
       "    <tr>\n",
       "      <th>4</th>\n",
       "      <td>4</td>\n",
       "      <td>Avengers Age of Ultron</td>\n",
       "      <td>复仇者联盟2</td>\n",
       "      <td>2017-01-22</td>\n",
       "      <td>5</td>\n",
       "      <td>ZephyrO</td>\n",
       "      <td>2015-04-22</td>\n",
       "      <td>2</td>\n",
       "      <td>虽然从头打到尾，但是真的很无聊啊。</td>\n",
       "      <td>723</td>\n",
       "    </tr>\n",
       "    <tr>\n",
       "      <th>5</th>\n",
       "      <td>5</td>\n",
       "      <td>Avengers Age of Ultron</td>\n",
       "      <td>复仇者联盟2</td>\n",
       "      <td>2017-01-22</td>\n",
       "      <td>6</td>\n",
       "      <td>同志亦凡人中文站</td>\n",
       "      <td>2015-04-22</td>\n",
       "      <td>3</td>\n",
       "      <td>剧情不如第一集好玩了，全靠密集笑点在提神。僧多粥少的直接后果就是每部寡姐都要换着队友谈恋爱...</td>\n",
       "      <td>671</td>\n",
       "    </tr>\n",
       "    <tr>\n",
       "      <th>6</th>\n",
       "      <td>6</td>\n",
       "      <td>Avengers Age of Ultron</td>\n",
       "      <td>复仇者联盟2</td>\n",
       "      <td>2017-01-22</td>\n",
       "      <td>7</td>\n",
       "      <td>Danny</td>\n",
       "      <td>2015-04-23</td>\n",
       "      <td>2</td>\n",
       "      <td>只有一颗彩蛋必须降一星。外加漫威的编剧是有心无力了吧。复仇者联盟只能永远着手与团队的和与不...</td>\n",
       "      <td>641</td>\n",
       "    </tr>\n",
       "    <tr>\n",
       "      <th>7</th>\n",
       "      <td>7</td>\n",
       "      <td>Avengers Age of Ultron</td>\n",
       "      <td>复仇者联盟2</td>\n",
       "      <td>2017-01-22</td>\n",
       "      <td>8</td>\n",
       "      <td>gYroS</td>\n",
       "      <td>2015-04-28</td>\n",
       "      <td>2</td>\n",
       "      <td>看腻了这些打来打去的烂片</td>\n",
       "      <td>576</td>\n",
       "    </tr>\n",
       "    <tr>\n",
       "      <th>8</th>\n",
       "      <td>8</td>\n",
       "      <td>Avengers Age of Ultron</td>\n",
       "      <td>复仇者联盟2</td>\n",
       "      <td>2017-01-22</td>\n",
       "      <td>9</td>\n",
       "      <td>tidd熊</td>\n",
       "      <td>2015-04-23</td>\n",
       "      <td>3</td>\n",
       "      <td>漫威粉勿喷，真感觉比第一部差了些火候。没想到奥创竟然这么弱，出来失望之极。。。</td>\n",
       "      <td>481</td>\n",
       "    </tr>\n",
       "    <tr>\n",
       "      <th>9</th>\n",
       "      <td>9</td>\n",
       "      <td>Avengers Age of Ultron</td>\n",
       "      <td>复仇者联盟2</td>\n",
       "      <td>2017-01-22</td>\n",
       "      <td>10</td>\n",
       "      <td>桃桃淘电影</td>\n",
       "      <td>2015-05-12</td>\n",
       "      <td>3</td>\n",
       "      <td>属于超级英雄的春晚，角色如走马灯一样出场。眼花缭乱的同时却没办法给人留下太深印象。这部内容...</td>\n",
       "      <td>443</td>\n",
       "    </tr>\n",
       "    <tr>\n",
       "      <th>10</th>\n",
       "      <td>10</td>\n",
       "      <td>Avengers Age of Ultron</td>\n",
       "      <td>复仇者联盟2</td>\n",
       "      <td>2017-01-22</td>\n",
       "      <td>11</td>\n",
       "      <td>影志</td>\n",
       "      <td>2015-04-30</td>\n",
       "      <td>4</td>\n",
       "      <td>“一个没有黑暗面的人不值得信任。” 第二部剥去冗长的铺垫，开场即高潮、一直到结束，会有人觉...</td>\n",
       "      <td>381</td>\n",
       "    </tr>\n",
       "    <tr>\n",
       "      <th>11</th>\n",
       "      <td>11</td>\n",
       "      <td>Avengers Age of Ultron</td>\n",
       "      <td>复仇者联盟2</td>\n",
       "      <td>2017-01-22</td>\n",
       "      <td>12</td>\n",
       "      <td>玖萬</td>\n",
       "      <td>2015-05-12</td>\n",
       "      <td>2</td>\n",
       "      <td>请漫威华丽地滚出电影界！每年都炮制出几部毫无营养千篇一律的流水线电影骗票房，刺激各种投机并...</td>\n",
       "      <td>275</td>\n",
       "    </tr>\n",
       "    <tr>\n",
       "      <th>12</th>\n",
       "      <td>12</td>\n",
       "      <td>Avengers Age of Ultron</td>\n",
       "      <td>复仇者联盟2</td>\n",
       "      <td>2017-01-22</td>\n",
       "      <td>13</td>\n",
       "      <td>亵渎电影</td>\n",
       "      <td>2015-05-12</td>\n",
       "      <td>2</td>\n",
       "      <td>承认这货很烂很难吗？混乱的节奏，人人都可能冒出来即兴插一腿，糟糕的3D也是毫无必要，就连特...</td>\n",
       "      <td>231</td>\n",
       "    </tr>\n",
       "    <tr>\n",
       "      <th>13</th>\n",
       "      <td>13</td>\n",
       "      <td>Avengers Age of Ultron</td>\n",
       "      <td>复仇者联盟2</td>\n",
       "      <td>2017-01-22</td>\n",
       "      <td>14</td>\n",
       "      <td>陀螺凡达可</td>\n",
       "      <td>2015-04-22</td>\n",
       "      <td>3</td>\n",
       "      <td>跟第一部很不一样，叙事加强了不少，整个基调都更沉重黑暗，幽默和燃点也减少了，趣味性更是大减...</td>\n",
       "      <td>228</td>\n",
       "    </tr>\n",
       "    <tr>\n",
       "      <th>14</th>\n",
       "      <td>14</td>\n",
       "      <td>Avengers Age of Ultron</td>\n",
       "      <td>复仇者联盟2</td>\n",
       "      <td>2017-01-22</td>\n",
       "      <td>15</td>\n",
       "      <td>别惹小白兔</td>\n",
       "      <td>2015-04-27</td>\n",
       "      <td>3</td>\n",
       "      <td>漫威第二阶最中庸的一集。承上启下之作，完全是内战和复联3的超长预告片，奥创明显是为续集强加...</td>\n",
       "      <td>270</td>\n",
       "    </tr>\n",
       "    <tr>\n",
       "      <th>15</th>\n",
       "      <td>15</td>\n",
       "      <td>Avengers Age of Ultron</td>\n",
       "      <td>复仇者联盟2</td>\n",
       "      <td>2017-01-22</td>\n",
       "      <td>16</td>\n",
       "      <td>高压电</td>\n",
       "      <td>2015-05-08</td>\n",
       "      <td>1</td>\n",
       "      <td>什么破烂反派，毫无戏剧冲突能消耗两个多小时生命，还强加爱情戏。脑残片好圈钱倒是真的。</td>\n",
       "      <td>158</td>\n",
       "    </tr>\n",
       "    <tr>\n",
       "      <th>16</th>\n",
       "      <td>16</td>\n",
       "      <td>Avengers Age of Ultron</td>\n",
       "      <td>复仇者联盟2</td>\n",
       "      <td>2017-01-22</td>\n",
       "      <td>17</td>\n",
       "      <td>牛腩羊耳朵</td>\n",
       "      <td>2015-04-22</td>\n",
       "      <td>4</td>\n",
       "      <td>总体来说没有达到第一部想让人立马二刷的体验，搞笑和燃度都有就是不够劲，应了续集电影的疲软定...</td>\n",
       "      <td>165</td>\n",
       "    </tr>\n",
       "    <tr>\n",
       "      <th>17</th>\n",
       "      <td>17</td>\n",
       "      <td>Avengers Age of Ultron</td>\n",
       "      <td>复仇者联盟2</td>\n",
       "      <td>2017-01-22</td>\n",
       "      <td>18</td>\n",
       "      <td>文文周</td>\n",
       "      <td>2015-04-24</td>\n",
       "      <td>5</td>\n",
       "      <td>机甲之战超超好看，比变形金刚强；人，神，变异人，人工智能互殴，强强强强；每一小段末句都是槽...</td>\n",
       "      <td>182</td>\n",
       "    </tr>\n",
       "    <tr>\n",
       "      <th>18</th>\n",
       "      <td>18</td>\n",
       "      <td>Avengers Age of Ultron</td>\n",
       "      <td>复仇者联盟2</td>\n",
       "      <td>2017-01-22</td>\n",
       "      <td>19</td>\n",
       "      <td>抽先桑</td>\n",
       "      <td>2015-04-29</td>\n",
       "      <td>2</td>\n",
       "      <td>结局就差寡姐握着绿巨人的手说：”我的意中人是一个盖世英雄，有一天他会turn green来...</td>\n",
       "      <td>153</td>\n",
       "    </tr>\n",
       "    <tr>\n",
       "      <th>19</th>\n",
       "      <td>19</td>\n",
       "      <td>Avengers Age of Ultron</td>\n",
       "      <td>复仇者联盟2</td>\n",
       "      <td>2017-01-22</td>\n",
       "      <td>20</td>\n",
       "      <td>时间的玫瑰</td>\n",
       "      <td>2015-04-23</td>\n",
       "      <td>4</td>\n",
       "      <td>全程挥之不去美队的胸和banner的胸……毛。人物太多感情的处理不够细腻是一定的啦。凭良心...</td>\n",
       "      <td>144</td>\n",
       "    </tr>\n",
       "  </tbody>\n",
       "</table>\n",
       "</div>"
      ]
     },
     "execution_count": 7,
     "metadata": {},
     "output_type": "execute_result"
    }
   ],
   "execution_count": 7
  },
  {
   "metadata": {
    "ExecuteTime": {
     "end_time": "2025-04-16T11:49:17.487257Z",
     "start_time": "2025-04-16T11:48:35.647419Z"
    }
   },
   "cell_type": "code",
   "source": [
    "import csv\n",
    "import jieba\n",
    "# 用户评论数据集\n",
    "ds_comments = []\n",
    "path='/Users/circleLee/.cache/kagglehub/datasets/utmhikari/doubanmovieshortcomments/versions/7/DMSC.csv'\n",
    "# 1. Read the CSV file\n",
    "with open(path, 'r') as file:\n",
    "    reader = csv.DictReader(file)\n",
    "    for row in reader:\n",
    "        vote = int(row['Star'])\n",
    "        if vote in [1,5]:\n",
    "            words = jieba.lcut(row['Comment'])   \n",
    "            ds_comments.append((words, 1 if vote > 1 else 0))  # 1 for positive, 0 for negative\n",
    "\n",
    "len(ds_comments)"
   ],
   "id": "f65eb3c6f15891c",
   "outputs": [
    {
     "name": "stderr",
     "output_type": "stream",
     "text": [
      "Building prefix dict from the default dictionary ...\n",
      "Loading model from cache /var/folders/j7/jk94b4xn57g1p5gbnv0z33080000gp/T/jieba.cache\n",
      "Loading model cost 0.255 seconds.\n",
      "Prefix dict has been built successfully.\n"
     ]
    },
    {
     "data": {
      "text/plain": [
       "829033"
      ]
     },
     "execution_count": 1,
     "metadata": {},
     "output_type": "execute_result"
    }
   ],
   "execution_count": 1
  },
  {
   "metadata": {
    "ExecuteTime": {
     "end_time": "2025-04-18T08:32:51.293812Z",
     "start_time": "2025-04-18T08:32:41.564659Z"
    }
   },
   "cell_type": "code",
   "source": [
    "import csv\n",
    "import sentencepiece as spm\n",
    "# 用户评论数据集\n",
    "ds_comments = []\n",
    "# 加载模型进行分词\n",
    "sp = spm.SentencePieceProcessor(model_file='comments_mod.model')\n",
    "path='/Users/circleLee/.cache/kagglehub/datasets/utmhikari/doubanmovieshortcomments/versions/7/DMSC.csv'\n",
    "# 1. Read the CSV file\n",
    "with open(path, 'r') as file:\n",
    "    reader = csv.DictReader(file)\n",
    "    for row in reader:\n",
    "        vote = int(row['Star'])\n",
    "        if vote in [1,5]:\n",
    "            words = sp.EncodeAsPieces(row['Comment'])   \n",
    "            ds_comments.append((words, 1 if vote > 1 else 0))  # 1 for positive, 0 for negative\n",
    "\n",
    "len(ds_comments)"
   ],
   "id": "7355746645b428d0",
   "outputs": [
    {
     "data": {
      "text/plain": [
       "829033"
      ]
     },
     "execution_count": 4,
     "metadata": {},
     "output_type": "execute_result"
    }
   ],
   "execution_count": 4
  },
  {
   "metadata": {
    "ExecuteTime": {
     "end_time": "2025-04-18T08:25:17.956987Z",
     "start_time": "2025-04-18T08:23:16.781073Z"
    }
   },
   "cell_type": "code",
   "source": [
    "import sentencepiece as spm\n",
    "# 引入外部文本资料训练分词模型\n",
    "path='/Users/circleLee/.cache/kagglehub/datasets/utmhikari/doubanmovieshortcomments/versions/7/DMSC.csv'\n",
    "spm.SentencePieceTrainer.Train(input=path, \n",
    "                               model_prefix='comments_mod',\n",
    "                               vocab_size=185990) # Train the model\n"
   ],
   "id": "ffda3ead3a821b39",
   "outputs": [
    {
     "name": "stderr",
     "output_type": "stream",
     "text": [
      "sentencepiece_trainer.cc(78) LOG(INFO) Starts training with : \n",
      "trainer_spec {\n",
      "  input: /Users/circleLee/.cache/kagglehub/datasets/utmhikari/doubanmovieshortcomments/versions/7/DMSC.csv\n",
      "  input_format: \n",
      "  model_prefix: comments_mod\n",
      "  model_type: UNIGRAM\n",
      "  vocab_size: 185990\n",
      "  self_test_sample_size: 0\n",
      "  character_coverage: 0.9995\n",
      "  input_sentence_size: 0\n",
      "  shuffle_input_sentence: 1\n",
      "  seed_sentencepiece_size: 1000000\n",
      "  shrinking_factor: 0.75\n",
      "  max_sentence_length: 4192\n",
      "  num_threads: 16\n",
      "  num_sub_iterations: 2\n",
      "  max_sentencepiece_length: 16\n",
      "  split_by_unicode_script: 1\n",
      "  split_by_number: 1\n",
      "  split_by_whitespace: 1\n",
      "  split_digits: 0\n",
      "  pretokenization_delimiter: \n",
      "  treat_whitespace_as_suffix: 0\n",
      "  allow_whitespace_only_pieces: 0\n",
      "  required_chars: \n",
      "  byte_fallback: 0\n",
      "  vocabulary_output_piece_score: 1\n",
      "  train_extremely_large_corpus: 0\n",
      "  seed_sentencepieces_file: \n",
      "  hard_vocab_limit: 1\n",
      "  use_all_vocab: 0\n",
      "  unk_id: 0\n",
      "  bos_id: 1\n",
      "  eos_id: 2\n",
      "  pad_id: -1\n",
      "  unk_piece: <unk>\n",
      "  bos_piece: <s>\n",
      "  eos_piece: </s>\n",
      "  pad_piece: <pad>\n",
      "  unk_surface:  ⁇ \n",
      "  enable_differential_privacy: 0\n",
      "  differential_privacy_noise_level: 0\n",
      "  differential_privacy_clipping_threshold: 0\n",
      "}\n",
      "normalizer_spec {\n",
      "  name: nmt_nfkc\n",
      "  add_dummy_prefix: 1\n",
      "  remove_extra_whitespaces: 1\n",
      "  escape_whitespaces: 1\n",
      "  normalization_rule_tsv: \n",
      "}\n",
      "denormalizer_spec {}\n",
      "trainer_interface.cc(353) LOG(INFO) SentenceIterator is not specified. Using MultiFileSentenceIterator.\n",
      "trainer_interface.cc(185) LOG(INFO) Loading corpus: /Users/circleLee/.cache/kagglehub/datasets/utmhikari/doubanmovieshortcomments/versions/7/DMSC.csv\n",
      "trainer_interface.cc(391) LOG(INFO) Reserved chars are found. Skipped: 364722,CUG King of Heroes,大圣归来,2017-01-03,73154,▂ ▃ ▄ ▅,2015-07-12,5, 良心之作！,0\r\n",
      "trainer_interface.cc(391) LOG(INFO) Reserved chars are found. Skipped: 592594,Journey to the West Conquering the Demons,西游降魔篇,2017-01-06,3037,亲爱的：我们可不能灭绝▂▃▅▆,2013-03-06,3, 大气层外的如来神��起到了笑场的效果，应该是周星星意料之外吧,0\r\n",
      "trainer_interface.cc(391) LOG(INFO) Reserved chars are found. Skipped: 861338,Lost In Thailand,泰囧,2017-01-06,3738,亲爱的：我们可不能灭绝▂▃▅▆,2012-12-18,1,\" 不是说完全不好笑，但本片最大笑点是\"\"八点六分\"\"  客观应该是两颗至三颗，但实在是虚高  一颗足矣\",0\r\n",
      "trainer_interface.cc(147) LOG(INFO) Loaded 1000000 lines\n",
      "trainer_interface.cc(391) LOG(INFO) Reserved chars are found. Skipped: 1306682,The Ghouls,寻龙诀,2017-01-25,35271,白小翔▃ ▅ ▇,2016-01-04,5, 我渤参演的我放心,0\r\n",
      "trainer_interface.cc(147) LOG(INFO) Loaded 2000000 lines\n",
      "trainer_interface.cc(391) LOG(INFO) Reserved chars are found. Skipped: 2043846,Zootopia,疯狂动物城,2017-01-04,57563,咕嘰▁▂▃▅,2016-03-10,5, 立马还想再看一遍,0\r\n",
      "trainer_interface.cc(124) LOG(WARNING) Too many sentences are loaded! (2131882), which may slow down training.\n",
      "trainer_interface.cc(126) LOG(WARNING) Consider using --input_sentence_size=<size> and --shuffle_input_sentence=true.\n",
      "trainer_interface.cc(129) LOG(WARNING) They allow to randomly sample <size> sentences from the entire corpus.\n",
      "trainer_interface.cc(409) LOG(INFO) Loaded all 2131882 sentences\n",
      "trainer_interface.cc(425) LOG(INFO) Adding meta_piece: <unk>\n",
      "trainer_interface.cc(425) LOG(INFO) Adding meta_piece: <s>\n",
      "trainer_interface.cc(425) LOG(INFO) Adding meta_piece: </s>\n",
      "trainer_interface.cc(430) LOG(INFO) Normalizing sentences...\n",
      "trainer_interface.cc(539) LOG(INFO) all chars count=227650951\n",
      "trainer_interface.cc(550) LOG(INFO) Done: 99.95% characters are covered.\n",
      "trainer_interface.cc(560) LOG(INFO) Alphabet size=5262\n",
      "trainer_interface.cc(561) LOG(INFO) Final character coverage=0.9995\n",
      "trainer_interface.cc(592) LOG(INFO) Done! preprocessed 2131226 sentences.\n",
      "unigram_model_trainer.cc(265) LOG(INFO) Making suffix array...\n",
      "unigram_model_trainer.cc(269) LOG(INFO) Extracting frequent sub strings... node_num=61485919\n",
      "unigram_model_trainer.cc(312) LOG(INFO) Initialized 1005262 seed sentencepieces\n",
      "trainer_interface.cc(598) LOG(INFO) Tokenizing input sentences with whitespace: 2131226\n",
      "trainer_interface.cc(609) LOG(INFO) Done! 6656534\n",
      "unigram_model_trainer.cc(602) LOG(INFO) Using 6656534 sentences for EM training\n",
      "unigram_model_trainer.cc(618) LOG(INFO) EM sub_iter=0 size=465394 obj=72.9732 num_tokens=59892721 num_tokens/piece=128.693\n",
      "unigram_model_trainer.cc(618) LOG(INFO) EM sub_iter=1 size=408116 obj=60.3137 num_tokens=60070011 num_tokens/piece=147.189\n",
      "unigram_model_trainer.cc(618) LOG(INFO) EM sub_iter=0 size=306027 obj=60.0986 num_tokens=60259187 num_tokens/piece=196.908\n",
      "unigram_model_trainer.cc(618) LOG(INFO) EM sub_iter=1 size=292974 obj=59.8676 num_tokens=60352616 num_tokens/piece=206\n",
      "unigram_model_trainer.cc(618) LOG(INFO) EM sub_iter=0 size=219697 obj=59.792 num_tokens=60495757 num_tokens/piece=275.36\n",
      "unigram_model_trainer.cc(618) LOG(INFO) EM sub_iter=1 size=219595 obj=59.5809 num_tokens=60513611 num_tokens/piece=275.569\n",
      "unigram_model_trainer.cc(618) LOG(INFO) EM sub_iter=0 size=204589 obj=59.5843 num_tokens=60622244 num_tokens/piece=296.312\n",
      "unigram_model_trainer.cc(618) LOG(INFO) EM sub_iter=1 size=204584 obj=59.5695 num_tokens=60634434 num_tokens/piece=296.379\n",
      "trainer_interface.cc(687) LOG(INFO) Saving model: comments_mod.model\n",
      "trainer_interface.cc(699) LOG(INFO) Saving vocabs: comments_mod.vocab\n"
     ]
    }
   ],
   "execution_count": 2
  },
  {
   "metadata": {
    "ExecuteTime": {
     "end_time": "2025-04-18T08:31:38.434538Z",
     "start_time": "2025-04-18T08:31:38.275970Z"
    }
   },
   "cell_type": "code",
   "source": [
    "# 加载模型进行分词\n",
    "sp = spm.SentencePieceProcessor(model_file='comments_mod.model')\n",
    "# 测试分词\n",
    "print(sp.EncodeAsPieces('漫威粉勿喷，真感觉比第一部差了些火候。没想到奥创竟然这么弱，出来失望之极。。。')) # 分词"
   ],
   "id": "14d914a9e7b541b3",
   "outputs": [
    {
     "name": "stdout",
     "output_type": "stream",
     "text": [
      "['▁漫威粉', '勿喷', ',', '真', '感觉比第一部', '差了些', '火候', '。', '没想到', '奥创', '竟然', '这么弱', ',', '出来', '失望', '之极', '。。。']\n"
     ]
    }
   ],
   "execution_count": 3
  },
  {
   "metadata": {},
   "cell_type": "markdown",
   "source": "#### 分析评论长度，考虑截取过长，过短评论",
   "id": "68222ab516e2a9a9"
  },
  {
   "metadata": {
    "ExecuteTime": {
     "end_time": "2025-04-18T08:33:06.933147Z",
     "start_time": "2025-04-18T08:33:05.970300Z"
    }
   },
   "cell_type": "code",
   "source": [
    "import matplotlib.pyplot as plt\n",
    "\n",
    "comments_len = [len(c) for c,v in ds_comments]\n",
    "plt.hist(comments_len, bins=100)\n",
    "plt.show()"
   ],
   "id": "5cd50cd31219ba78",
   "outputs": [
    {
     "data": {
      "text/plain": [
       "<Figure size 640x480 with 1 Axes>"
      ],
      "image/png": "[encoded data removed]"
     },
     "metadata": {},
     "output_type": "display_data"
    }
   ],
   "execution_count": 5
  },
  {
   "metadata": {
    "ExecuteTime": {
     "end_time": "2025-04-18T08:33:16.147956Z",
     "start_time": "2025-04-18T08:33:15.520388Z"
    }
   },
   "cell_type": "code",
   "source": [
    "plt.boxplot(comments_len)\n",
    "plt.show"
   ],
   "id": "da5afb26eea3b326",
   "outputs": [
    {
     "data": {
      "text/plain": [
       "<function matplotlib.pyplot.show(close=None, block=None)>"
      ]
     },
     "execution_count": 6,
     "metadata": {},
     "output_type": "execute_result"
    },
    {
     "data": {
      "text/plain": [
       "<Figure size 640x480 with 1 Axes>"
      ],
      "image/png": "[encoded data removed]"
     },
     "metadata": {},
     "output_type": "display_data"
    }
   ],
   "execution_count": 6
  },
  {
   "metadata": {
    "ExecuteTime": {
     "end_time": "2025-04-18T08:33:43.175328Z",
     "start_time": "2025-04-18T08:33:42.654714Z"
    }
   },
   "cell_type": "code",
   "source": [
    "# 评论词汇长度在10～100之间\n",
    "ds_comments = [c for c in ds_comments if len(c[0]) in range(10, 80)]\n",
    "comments_len = [len(c) for c,v in ds_comments]\n",
    "plt.hist(comments_len, bins=100)\n",
    "plt.show()"
   ],
   "id": "1ed8869e0c007b1a",
   "outputs": [
    {
     "data": {
      "text/plain": [
       "<Figure size 640x480 with 1 Axes>"
      ],
      "image/png": "[encoded data removed]"
     },
     "metadata": {},
     "output_type": "display_data"
    }
   ],
   "execution_count": 7
  },
  {
   "metadata": {
    "ExecuteTime": {
     "end_time": "2025-04-18T08:33:53.838970Z",
     "start_time": "2025-04-18T08:33:51.603131Z"
    }
   },
   "cell_type": "code",
   "source": [
    "import pickle\n",
    "\n",
    "with open('data/comments2.pkl', 'wb') as f:\n",
    "    pickle.dump(ds_comments, f)"
   ],
   "id": "b015a88ca0a4daaf",
   "outputs": [],
   "execution_count": 8
  }
 ],
 "metadata": {
  "kernelspec": {
   "display_name": "Python 3",
   "language": "python",
   "name": "python3"
  },
  "language_info": {
   "codemirror_mode": {
    "name": "ipython",
    "version": 2
   },
   "file_extension": ".py",
   "mimetype": "text/x-python",
   "name": "python",
   "nbconvert_exporter": "python",
   "pygments_lexer": "ipython2",
   "version": "2.7.6"
  }
 },
 "nbformat": 4,
 "nbformat_minor": 5
}
