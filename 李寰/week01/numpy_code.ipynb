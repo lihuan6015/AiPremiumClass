{
 "cells": [
  {
   "cell_type": "code",
   "execution_count": 85,
   "metadata": {},
   "outputs": [
    {
     "data": {
      "text/plain": [
       "array([1., 2., 3.])"
      ]
     },
     "execution_count": 85,
     "metadata": {},
     "output_type": "execute_result"
    }
   ],
   "source": [
    "import numpy as np\n",
    "a=[1,2,3]\n",
    "#np方式加载py数组\n",
    "b=np.array(a)\n",
    "b\n",
    "\n",
    "a=np.array([1,2,3],float)\n",
    "a"
   ]
  },
  {
   "cell_type": "code",
   "execution_count": 86,
   "metadata": {},
   "outputs": [
    {
     "data": {
      "text/plain": [
       "array([[1, 2, 3],\n",
       "       [4, 5, 6],\n",
       "       [7, 8, 9]])"
      ]
     },
     "execution_count": 86,
     "metadata": {},
     "output_type": "execute_result"
    }
   ],
   "source": [
    "#多维数组\n",
    "m1=np.array([[1,2,3],[4,5,6],[7,8,9]])\n",
    "m1"
   ]
  },
  {
   "cell_type": "code",
   "execution_count": 87,
   "metadata": {},
   "outputs": [
    {
     "data": {
      "text/plain": [
       "array([ 0.13472978, -0.09534831,  0.34950078,  0.09146615, -0.05541212])"
      ]
     },
     "execution_count": 87,
     "metadata": {},
     "output_type": "execute_result"
    }
   ],
   "source": [
    "#np创建特殊数组 使用zeros占位符创建数组函数\n",
    "a=np.zeros((3,3),dtype=int)\n",
    "a\n",
    "#全为1的数组：\n",
    "b=np.ones((3,3),dtype=int)*2\n",
    "b\n",
    "#等差数列\n",
    "c=np.arange(1,10,0.5)\n",
    "c\n",
    "#单位矩阵（主对角线为1）\n",
    "d=np.eye(5)\n",
    "d\n",
    "#生成n个在0-1之间平均分布\n",
    "e=np.random.random(5)\n",
    "e\n",
    "#生成n个符合正态分布的随机数组，指定均值为0，标准差0.1\n",
    "mu,sigma=0,0.1\n",
    "r_n=np.random.normal(mu,sigma,5)\n",
    "r_n\n"
   ]
  },
  {
   "cell_type": "code",
   "execution_count": 88,
   "metadata": {},
   "outputs": [
    {
     "name": "stdout",
     "output_type": "stream",
     "text": [
      "[[1]\n",
      " [3]\n",
      " [5]]\n",
      "aa元素为:\n",
      " [[1 2 3 4]\n",
      " [3 4 5 6]\n",
      " [5 6 7 8]]\n",
      "所有行,1<=index<3的所有列,步长1\n",
      " [[2 3]\n",
      " [4 5]\n",
      " [6 7]]\n"
     ]
    }
   ],
   "source": [
    "#np数组访问\n",
    "a = np.array([(1,2), (3,4), (5,6)])\n",
    "#array([1, 2])\n",
    "a[0]\n",
    "#从index=1的位置开始到数组结束 array([[3, 4],[5, 6] )\n",
    "a[1:]\n",
    "#对数组 a 进行切片,[start:stop:step],a[: , :1] 则为遍历第一维（行），每一行到index<1结束，也就是第一个元素，步长默认1，因此获取每行的第一个元素\n",
    "aa = np.array([(1,2,3,4), (3,4,5,6), (5,6,7,8)])\n",
    "print(aa[: , :1])\n",
    "#行操作\n",
    "print(\"aa元素为:\\n\",aa)\n",
    "print(\"所有行,1<=index<3的所有列,步长1\\n\",aa[:,1:3:1])"
   ]
  },
  {
   "cell_type": "code",
   "execution_count": 89,
   "metadata": {},
   "outputs": [
    {
     "name": "stdout",
     "output_type": "stream",
     "text": [
      "3\n",
      "7\n",
      "11\n"
     ]
    }
   ],
   "source": [
    "#数组遍历\n",
    "a = np.array([(1,2), (3,4), (5,6)])\n",
    "for i,j in a:\n",
    "    print(i+j)"
   ]
  },
  {
   "cell_type": "markdown",
   "metadata": {},
   "source": [
    "NumPy 数组的常⽤属性"
   ]
  },
  {
   "cell_type": "code",
   "execution_count": 90,
   "metadata": {},
   "outputs": [
    {
     "name": "stdout",
     "output_type": "stream",
     "text": [
      "ndim: 2\n",
      "shape: (3, 3)\n",
      "size 9\n",
      "dtype int64\n"
     ]
    }
   ],
   "source": [
    "#numpy数组常用属性\n",
    "a = np.array([(1,2,3), (4,5,6), (7,8,9)])\n",
    "#ndarray.ndim : 数组的维度（数组轴的个数），等于秩\n",
    "print(\"ndim:\", a.ndim)\n",
    "# ndarray.shape : 数组的⼤⼩。为⼀个表⽰数组在每个维度上⼤⼩的整数元组。例如⼆维数组中，表⽰数组的’ ⾏数’ 和’ 列数”\n",
    "print(\"shape:\", a.shape)\n",
    "# ndarray.size : 数组元素的总个数，等于 shape 属性中元组元素的乘积\n",
    "print(\"size\", a.size)\n",
    "# ndarray.dtype : 表⽰数组中元素类型的对象\n",
    "print(\"dtype\", a.dtype)"
   ]
  },
  {
   "cell_type": "markdown",
   "metadata": {},
   "source": [
    "# NumPy 数组的基本操作"
   ]
  },
  {
   "cell_type": "code",
   "execution_count": 91,
   "metadata": {},
   "outputs": [
    {
     "name": "stdout",
     "output_type": "stream",
     "text": [
      "True\n",
      "False\n"
     ]
    }
   ],
   "source": [
    "# in :检测数值是否在数组中\n",
    "a = np.array([(1,2), (3,4)])\n",
    "print(3 in a)\n",
    "print(5 in a)"
   ]
  },
  {
   "cell_type": "code",
   "execution_count": 92,
   "metadata": {},
   "outputs": [
    {
     "data": {
      "text/plain": [
       "array([0., 0., 0., 0., 0., 0., 0., 0., 0., 0., 0., 0., 0., 0., 0., 0., 0.,\n",
       "       0., 0., 0., 0., 0., 0., 0.])"
      ]
     },
     "execution_count": 92,
     "metadata": {},
     "output_type": "execute_result"
    }
   ],
   "source": [
    "# reshape : 数组的重排列，例如将⼀个 3 维数组转变为 1 维（元素数⼀定要保持不变）\n",
    "a = np.zeros([2,3,4])\n",
    "a\n",
    "a.reshape(24)"
   ]
  },
  {
   "cell_type": "code",
   "execution_count": 93,
   "metadata": {},
   "outputs": [
    {
     "name": "stdout",
     "output_type": "stream",
     "text": [
      "a=> [[1 2 3]\n",
      " [4 5 6]\n",
      " [7 8 9]]\n"
     ]
    },
    {
     "data": {
      "text/plain": [
       "array([[1, 4, 7],\n",
       "       [2, 5, 8],\n",
       "       [3, 6, 9]])"
      ]
     },
     "execution_count": 93,
     "metadata": {},
     "output_type": "execute_result"
    }
   ],
   "source": [
    "# tanspose ：转置 (可以直接.T）\n",
    "a = np.array([(1,2,3), (4,5,6), (7,8,9)])\n",
    "print(\"a=>\",a)\n",
    "a.transpose()"
   ]
  },
  {
   "cell_type": "code",
   "execution_count": 94,
   "metadata": {},
   "outputs": [
    {
     "data": {
      "text/plain": [
       "array([1, 2, 3, 4, 5, 6])"
      ]
     },
     "execution_count": 94,
     "metadata": {},
     "output_type": "execute_result"
    }
   ],
   "source": [
    "# flatten : 把多维数组转换为⼀维数组，注意每个元组的⻓度是相同的\n",
    "a = np.array([(1,2), (3,4), (5,6)])\n",
    "a.flatten()"
   ]
  },
  {
   "cell_type": "code",
   "execution_count": 98,
   "metadata": {},
   "outputs": [
    {
     "data": {
      "text/plain": [
       "(3, 1)"
      ]
     },
     "execution_count": 98,
     "metadata": {},
     "output_type": "execute_result"
    }
   ],
   "source": [
    "#newaxis : 增加维度\n",
    "a = np.array([1,2,3])\n",
    "a.shape\n",
    "a = a[ :, np.newaxis]\n",
    "a\n",
    "a.shape"
   ]
  },
  {
   "cell_type": "markdown",
   "metadata": {},
   "source": [
    "# NumPy 数组的数学操作"
   ]
  },
  {
   "cell_type": "code",
   "execution_count": null,
   "metadata": {},
   "outputs": [
    {
     "name": "stdout",
     "output_type": "stream",
     "text": [
      "[[1. 1.]\n",
      " [1. 1.]]\n",
      "[[-1  1]\n",
      " [-1  1]]\n"
     ]
    }
   ],
   "source": [
    "# * 星乘表⽰矩阵内各对应位置相乘，点乘表⽰求矩阵内积，⼆维数组称为矩阵积\n",
    "# （mastrix product）：\n",
    "a = np.ones((2,2))\n",
    "b = np.array([(-1,1),(-1,1)])\n",
    "print(a)\n",
    "print(b)\n",
    "a = np.array([1,2,1])\n",
    "#求和 a=4\n",
    "a.sum()\n",
    "#求乘积a=2\n",
    "a.prod()"
   ]
  },
  {
   "cell_type": "code",
   "execution_count": null,
   "metadata": {},
   "outputs": [
    {
     "name": "stdout",
     "output_type": "stream",
     "text": [
      "mean: 3.0\n",
      "var: 2.6666666666666665\n",
      "std: 1.632993161855452\n",
      "max: 5\n",
      "min: 1\n"
     ]
    }
   ],
   "source": [
    "# 平均数，⽅差，标准差，最⼤值，最⼩值\n",
    "a = np.array([5,3,1])\n",
    "print(\"mean:\",a.mean())\n",
    "#方差\n",
    "print(\"var:\", a.var())\n",
    "#标准差\n",
    "print(\"std:\", a.std())\n",
    "print(\"max:\", a.max())\n",
    "print(\"min:\", a.min())"
   ]
  },
  {
   "cell_type": "code",
   "execution_count": null,
   "metadata": {},
   "outputs": [
    {
     "name": "stdout",
     "output_type": "stream",
     "text": [
      "argmax: 2\n",
      "argmin: 0\n",
      "ceil: [2. 4. 5.]\n",
      "floor: [1. 3. 4.]\n",
      "rint: [1. 4. 5.]\n"
     ]
    }
   ],
   "source": [
    "# 最⼤与最⼩值对应的索引值：argmax,argmin:\n",
    "# 取元素值上限，下限，四舍五⼊：ceil, floor, rint\n",
    "a = np.array([1.2, 3.8, 4.9])\n",
    "print(\"argmax:\", a.argmax())\n",
    "print(\"argmin:\", a.argmin())\n",
    "print(\"ceil:\", np.ceil(a))\n",
    "print(\"floor:\", np.floor(a))\n",
    "print(\"rint:\", np.rint(a))\n",
    "#排序sort\n",
    "a = np.array([16,31,12,28,22,31,48])\n",
    "a.sort()\n",
    "# 除了上述函数外，还有很多数据运算操作，它们的使⽤⽅式基本都类似，例如：abs,\n",
    "# sign, sqrt, log,log10, exp, sin, cos, tan, arcsin, arccos, arctan, sinh, cosh, tanh,\n",
    "# arcsinh, arccosh,arctanh 等等。"
   ]
  },
  {
   "cell_type": "markdown",
   "metadata": {},
   "source": [
    "# NumPy 线性代数"
   ]
  },
  {
   "cell_type": "code",
   "execution_count": 104,
   "metadata": {},
   "outputs": [
    {
     "name": "stdout",
     "output_type": "stream",
     "text": [
      "矩阵 1:\n",
      "[[1. 2.]\n",
      " [3. 4.]]\n",
      "矩阵 2:\n",
      "[[5. 6.]\n",
      " [7. 8.]]\n",
      "使⽤ np.dot 得到的矩阵乘法结果:\n",
      "[[19. 22.]\n",
      " [43. 50.]]\n",
      "使⽤ @ 运算符得到的矩阵乘法结果:\n",
      "[[19. 22.]\n",
      " [43. 50.]]\n",
      "1.0 * 5.0 = 5.0\n",
      "2.0 * 7.0 = 14.0\n",
      "1.0 * 6.0 = 6.0\n",
      "2.0 * 8.0 = 16.0\n",
      "结果矩阵[1,2]:22.0\n",
      "\n",
      "3.0 * 5.0 = 15.0\n",
      "4.0 * 7.0 = 28.0\n",
      "3.0 * 6.0 = 18.0\n",
      "4.0 * 8.0 = 32.0\n",
      "结果矩阵[2,2]:50.0\n",
      "\n",
      "⼿动推演结果:\n",
      "[[19. 22.]\n",
      " [43. 50.]]\n"
     ]
    }
   ],
   "source": [
    "# 有关线性代数的运算均在 numpy.linalg 中\n",
    "# dot : 矩阵乘法，对于两个⼀维的数组，计算的是这两个数组对应下标元素的乘积和\n",
    "# (数学上称之为内积)；\n",
    "# 定义两个简单的矩阵\n",
    "m1 = np.array([[1, 2], [3, 4]] , dtype=np.float32)\n",
    "m2 = np.array([[5, 6], [7, 8]] , dtype=np.float32)\n",
    "# 使⽤ np.dot 进⾏矩阵乘法\n",
    "result_dot = np.dot(m1, m2)\n",
    "# 使⽤ @ 运算符进⾏矩阵乘法\n",
    "result_at = m1 @ m2\n",
    "print(\"矩阵 1:\")\n",
    "print(m1)\n",
    "print(\"矩阵 2:\")\n",
    "print(m2)\n",
    "print(\"使⽤ np.dot 得到的矩阵乘法结果:\")\n",
    "print(result_dot)\n",
    "print(\"使⽤ @ 运算符得到的矩阵乘法结果:\")\n",
    "print(result_at)\n",
    "\n",
    "# 创建⼀个全零矩阵，⽤于存储⼿动推演的结果\n",
    "# 结果矩阵的⾏数等于 matrix1 的⾏数，列数等于 matrix2 的列数\n",
    "manual_result = np.zeros((m1.shape[0], m2.shape[1]), dtype=np.float32)\n",
    "# 外层循环：遍历 matrix1 的每⼀⾏\n",
    "# i 表⽰结果矩阵的⾏索引\n",
    "for i in range(m1.shape[0]):\n",
    " # 中层循环：遍历 matrix2 的每⼀列\n",
    " # j 表⽰结果矩阵的列索引\n",
    " for j in range(m2.shape[1]):\n",
    " # 初始化当前位置的结果为 0\n",
    "    manual_result[i, j] = 0\n",
    " # 内层循环：计算 matrix1 的第 i ⾏与 matrix2 的第 j 列对应元素的乘积之和\n",
    " # k 表⽰参与乘法运算的元素索引\n",
    "    for k in range(m1.shape[1]):\n",
    " # 打印当前正在计算的元素\n",
    "        print(f\"{m1[i, k]} * {m2[k, j]} = {m1[i, k] * m2[k, j]}\")\n",
    " # 将 matrix1 的第 i ⾏第 k 列元素与 matrix2 的第 k ⾏第 j 列元素相乘，并累\n",
    "        manual_result[i, j] += m1[i, k] * m2[k, j]\n",
    " # 打印当前位置计算完成后的结果\n",
    " print(f\"结果矩阵[{i+1},{j+1}]:{manual_result[i, j]}\\n\")\n",
    "print(\"⼿动推演结果:\")\n",
    "print(manual_result)"
   ]
  },
  {
   "cell_type": "code",
   "execution_count": null,
   "metadata": {},
   "outputs": [],
   "source": [
    "# 还有⼀些函数可以使⽤，\n",
    "# eig : 特征值、特征向量\n",
    "# inv : 逆\n",
    "# qr :QR 分解\n",
    "# svd : 奇异值分解\n",
    "# solve : 解线性⽅程 Ax=b \n",
    "# lstsq : 计算Ax=b 的最⼩⼆乘解\n",
    "\n",
    "# ⽂件操作\n",
    "# ⼆进制⽂件： np.save 、 np.load\n",
    "# ⽂本⽂件： np.loadtxt 、 np.savetxt\n",
    "# ⼆进制⽂件会存储为.npy 的格式"
   ]
  },
  {
   "cell_type": "code",
   "execution_count": null,
   "metadata": {},
   "outputs": [
    {
     "data": {
      "text/plain": [
       "array([[0, 3],\n",
       "       [1, 3],\n",
       "       [2, 4],\n",
       "       [3, 5]])"
      ]
     },
     "execution_count": 105,
     "metadata": {},
     "output_type": "execute_result"
    }
   ],
   "source": [
    "# NumPy ⼴播机制\n",
    "#当运算中的 2 个数组的形状不同时，numpy 将⾃动触发⼴播机制\n",
    "a = np.array([(1,2), (2,2), (3,3), (4,4)]) # shape(4,2)\n",
    "b = np.array([-1,1]) # shape(,2)-> shape(1,2) -> shape(4,2) [ -1,1],[-1,1],[-1,1],[-1,1]\n",
    "a + b"
   ]
  },
  {
   "cell_type": "code",
   "execution_count": null,
   "metadata": {},
   "outputs": [],
   "source": []
  }
 ],
 "metadata": {
  "kernelspec": {
   "display_name": "circle-py",
   "language": "python",
   "name": "python3"
  },
  "language_info": {
   "codemirror_mode": {
    "name": "ipython",
    "version": 3
   },
   "file_extension": ".py",
   "mimetype": "text/x-python",
   "name": "python",
   "nbconvert_exporter": "python",
   "pygments_lexer": "ipython3",
   "version": "3.12.9"
  }
 },
 "nbformat": 4,
 "nbformat_minor": 2
}
